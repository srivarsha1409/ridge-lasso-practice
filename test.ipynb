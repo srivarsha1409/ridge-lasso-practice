{
 "cells": [
  {
   "cell_type": "code",
   "execution_count": 16,
   "id": "982b37b4",
   "metadata": {},
   "outputs": [
    {
     "name": "stdout",
     "output_type": "stream",
     "text": [
      "Best alpha: 0.0071968567300115215\n",
      "Coefficients: [ 4.41273599 -3.41175106]\n",
      "Intercept: 0.012383721735237843\n",
      "Rsquare: 0.6538727524919414\n",
      "RMSE: 0.5705925764636008\n"
     ]
    }
   ],
   "source": [
    "#1\n",
    "import numpy as np\n",
    "import pandas as pd\n",
    "import matplotlib.pyplot as plt\n",
    "from sklearn.linear_model import RidgeCV, Ridge\n",
    "from sklearn.model_selection import train_test_split\n",
    "from sklearn.metrics import r2_score, mean_squared_error\n",
    "\n",
    "df = pd.read_csv(\"D:/ai workforce/21 august/ridge_correlated_150.csv\")\n",
    "\n",
    "X = df[[\"x1\", \"x2\"]]\n",
    "y = df[\"y\"]\n",
    "\n",
    "X_train, X_test, y_train, y_test = train_test_split(X, y, test_size=0.2, random_state=42)\n",
    "\n",
    "alphas = np.logspace(-3, 3, 50)\n",
    "ridge = RidgeCV(alphas=alphas)\n",
    "ridge.fit(X_train, y_train)\n",
    "y_pred = ridge.predict(X_test)\n",
    "\n",
    "print(\"Best alpha:\", ridge.alpha_)\n",
    "print(\"Coefficients:\", ridge.coef_)\n",
    "print(\"Intercept:\", ridge.intercept_)\n",
    "print(\"Rsquare:\", r2_score(y_test, y_pred))\n",
    "print(\"RMSE:\", np.sqrt(mean_squared_error(y_test, y_pred)))"
   ]
  },
  {
   "cell_type": "code",
   "execution_count": 17,
   "id": "0e76d88f",
   "metadata": {},
   "outputs": [
    {
     "name": "stdout",
     "output_type": "stream",
     "text": [
      "Best alpha: 0.1206792640639329\n",
      "Coefficients: [ 3.87623039 -1.51643541]\n",
      "Intercept: -0.013726759187761978\n",
      "Rsquare: 0.9808450980365264\n",
      "RMSE: 0.7713843686168288\n"
     ]
    }
   ],
   "source": [
    "#2\n",
    "import numpy as np\n",
    "import pandas as pd\n",
    "import matplotlib.pyplot as plt\n",
    "from sklearn.linear_model import RidgeCV, Ridge\n",
    "from sklearn.model_selection import train_test_split\n",
    "from sklearn.metrics import r2_score, mean_squared_error\n",
    "\n",
    "df = pd.read_csv(\"D:/ai workforce/21 august/ridge_10feat_150.csv\")\n",
    "\n",
    "X = df[[\"x1\", \"x2\"]]\n",
    "y = df[\"y\"]\n",
    "\n",
    "X_train, X_test, y_train, y_test = train_test_split(X, y, test_size=0.2, random_state=42)\n",
    "\n",
    "alphas = np.logspace(-3, 3, 50)\n",
    "ridge_cv = RidgeCV(alphas=alphas)\n",
    "ridge_cv.fit(X_train, y_train)\n",
    "y_pred = ridge_cv.predict(X_test)\n",
    "\n",
    "print(\"Best alpha:\", ridge_cv.alpha_)\n",
    "print(\"Coefficients:\", ridge_cv.coef_)\n",
    "print(\"Intercept:\", ridge_cv.intercept_)\n",
    "print(\"Rsquare:\", r2_score(y_test, y_pred))\n",
    "print(\"RMSE:\", np.sqrt(mean_squared_error(y_test, y_pred)))"
   ]
  },
  {
   "cell_type": "code",
   "execution_count": 18,
   "id": "38d5b952",
   "metadata": {},
   "outputs": [
    {
     "name": "stdout",
     "output_type": "stream",
     "text": [
      "Best alpha: 0.06662744526920758\n",
      "Selected features: ['x1', 'x2', 'x3', 'x4', 'x5', 'x6', 'x7', 'x8', 'x9', 'x11', 'x12', 'x13', 'x16', 'x18', 'x21', 'x23', 'x24', 'x26', 'x28', 'x29']\n",
      "Rsquare: 0.9620885670252837\n",
      "RMSE: 1.1860751609124554\n"
     ]
    }
   ],
   "source": [
    "#3\n",
    "import pandas as pd\n",
    "from sklearn.linear_model import LassoCV\n",
    "from sklearn.model_selection import train_test_split\n",
    "from sklearn.metrics import r2_score, mean_squared_error\n",
    "import numpy as np\n",
    "\n",
    "df = pd.read_csv(\"D:/ai workforce/21 august/lasso_sparse_150.csv\")\n",
    "\n",
    "X, y = df.iloc[:, :-1], df.iloc[:, -1]\n",
    "\n",
    "X_train, X_test, y_train, y_test = train_test_split(X, y, test_size=0.2, random_state=42)\n",
    "model = LassoCV(cv=5).fit(X_train, y_train)\n",
    "\n",
    "print(\"Best alpha:\", model.alpha_)\n",
    "print(\"Selected features:\", X.columns[model.coef_ != 0].tolist())\n",
    "print(\"Rsquare:\", r2_score(y_test, model.predict(X_test)))\n",
    "print(\"RMSE:\", np.sqrt(mean_squared_error(y_test, model.predict(X_test))))"
   ]
  },
  {
   "cell_type": "code",
   "execution_count": 19,
   "id": "1d8adf48",
   "metadata": {},
   "outputs": [
    {
     "name": "stdout",
     "output_type": "stream",
     "text": [
      "Best alpha: 0.006791843214729933\n",
      "Coefficients (original scale):\n",
      "xA: 2.019080\n",
      "xB: -0.000000\n",
      "xC: 1.573574\n",
      "xD: 0.000000\n",
      "xE: -0.145555\n",
      "Intercept (original scale): -0.05612014831050652\n",
      "Test Rsquare: 0.918738934016131\n",
      "Test RMSE: 0.8746060348849793\n"
     ]
    }
   ],
   "source": [
    "#4\n",
    "import pandas as pd\n",
    "from sklearn.model_selection import train_test_split\n",
    "from sklearn.preprocessing import StandardScaler\n",
    "from sklearn.linear_model import LassoCV\n",
    "from sklearn.metrics import r2_score, mean_squared_error\n",
    "import numpy as np\n",
    "\n",
    "df = pd.read_csv(\"D:/ai workforce/21 august/lasso_groups_150.csv\")\n",
    "X = df[[\"xA\",\"xB\",\"xC\",\"xD\",\"xE\"]]\n",
    "y = df[\"y\"]\n",
    "\n",
    "\n",
    "X_train, X_test, y_train, y_test = train_test_split(X, y, test_size=0.25, random_state=42)\n",
    "\n",
    "scaler = StandardScaler()\n",
    "X_train_s = scaler.fit_transform(X_train)\n",
    "X_test_s  = scaler.transform(X_test)\n",
    "\n",
    "lasso = LassoCV(cv=5, random_state=0).fit(X_train_s, y_train)\n",
    "\n",
    "coef_original = lasso.coef_ / scaler.scale_\n",
    "intercept_original = lasso.intercept_ - (lasso.coef_ @ (scaler.mean_ / scaler.scale_))\n",
    "\n",
    "\n",
    "y_pred = lasso.predict(X_test_s)\n",
    "r2 = r2_score(y_test, y_pred)\n",
    "rmse = np.sqrt(mean_squared_error(y_test, y_pred))\n",
    "\n",
    "\n",
    "print(\"Best alpha:\", lasso.alpha_)\n",
    "print(\"Coefficients (original scale):\")\n",
    "for f, c in zip(X.columns, coef_original):\n",
    "    print(f\"{f}: {c:.6f}\")\n",
    "print(\"Intercept (original scale):\", intercept_original)\n",
    "print(\"Test Rsquare:\", r2)\n",
    "print(\"Test RMSE:\", rmse)"
   ]
  },
  {
   "cell_type": "code",
   "execution_count": 20,
   "id": "1b5da7f8",
   "metadata": {},
   "outputs": [
    {
     "name": "stdout",
     "output_type": "stream",
     "text": [
      "Linear R²: 0.8538381605808614\n",
      "Linear RMSE: 1.8960081155340847\n",
      "intercept: 1.962255007965543\n",
      "coefficients: {'x': np.float64(3.0503360329717104), 'x²': np.float64(-0.6969014507509734)}\n",
      "Rsquare: 0.9698005933583901\n",
      "RMSE: 0.861831566389018\n",
      "Prediction at x=1.5: 4.969730793233419\n"
     ]
    }
   ],
   "source": [
    "#5\n",
    "import pandas as pd, numpy as np\n",
    "from sklearn.model_selection import train_test_split\n",
    "from sklearn.linear_model import LinearRegression\n",
    "from sklearn.preprocessing import PolynomialFeatures\n",
    "from sklearn.pipeline import Pipeline\n",
    "from sklearn.metrics import r2_score, mean_squared_error\n",
    "\n",
    "\n",
    "df = pd.read_csv(\"D:/ai workforce/21 august/poly_quadratic_150.csv\")\n",
    "X, y = df[[\"x\"]], df[\"y\"]\n",
    "Xtr, Xte, ytr, yte = train_test_split(X, y, test_size=0.25, random_state=42)\n",
    "\n",
    "\n",
    "lin = LinearRegression().fit(Xtr, ytr)\n",
    "ypl = lin.predict(Xte)\n",
    "\n",
    "print(\"Linear R²:\", r2_score(yte, ypl))\n",
    "print(\"Linear RMSE:\", np.sqrt(mean_squared_error(yte, ypl)))\n",
    "\n",
    "\n",
    "quad = Pipeline([(\"poly\", PolynomialFeatures(2, include_bias=False)),\n",
    "                 (\"lin\", LinearRegression())]).fit(Xtr, ytr)\n",
    "ypq = quad.predict(Xte)\n",
    "lr = quad.named_steps[\"lin\"]\n",
    "\n",
    "print(\"intercept:\", lr.intercept_)\n",
    "print(\"coefficients:\", dict(zip([\"x\",\"x²\"], lr.coef_)))\n",
    "print(\"Rsquare:\", r2_score(yte, ypq))\n",
    "print(\"RMSE:\", np.sqrt(mean_squared_error(yte, ypq)))\n",
    "\n",
    "\n",
    "print(\"Prediction at x=1.5:\", quad.predict(pd.DataFrame([[1.5]], columns=[\"x\"]))[0])\n",
    "\n"
   ]
  }
 ],
 "metadata": {
  "kernelspec": {
   "display_name": "Python 3",
   "language": "python",
   "name": "python3"
  },
  "language_info": {
   "codemirror_mode": {
    "name": "ipython",
    "version": 3
   },
   "file_extension": ".py",
   "mimetype": "text/x-python",
   "name": "python",
   "nbconvert_exporter": "python",
   "pygments_lexer": "ipython3",
   "version": "3.13.0"
  }
 },
 "nbformat": 4,
 "nbformat_minor": 5
}
